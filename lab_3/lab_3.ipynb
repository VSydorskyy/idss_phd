{
 "cells": [
  {
   "cell_type": "markdown",
   "id": "0d44536b-7d85-4e6f-8173-18c8b7a6ec9b",
   "metadata": {},
   "source": [
    "# Комп'ютерний практикум №3\n",
    "## Сидорський Володимир Сергійович (КА-21ф)\n",
    "## Варіант 5"
   ]
  },
  {
   "cell_type": "markdown",
   "id": "ca8084bb-8479-477f-9a0b-d2a279d6d6b7",
   "metadata": {},
   "source": [
    "# Завдання"
   ]
  },
  {
   "cell_type": "markdown",
   "id": "2ab7d3aa-d833-4b69-b2cb-0f8e124297e8",
   "metadata": {},
   "source": [
    "![Task_main](images/task_1.png)\n",
    "\n",
    "\n",
    "![Task_input](images/task_2.png)"
   ]
  },
  {
   "cell_type": "markdown",
   "id": "e7e9ec63-8dc2-4ffb-9cfa-1b06d0342b05",
   "metadata": {},
   "source": [
    "# Програма"
   ]
  },
  {
   "cell_type": "code",
   "execution_count": 1,
   "id": "086c5e25-c1c6-4094-bc85-729ee01b1d9f",
   "metadata": {},
   "outputs": [],
   "source": [
    "import numpy as np\n",
    "import pandas as pd"
   ]
  },
  {
   "cell_type": "code",
   "execution_count": 2,
   "id": "2ecc7659-d2be-4379-a8eb-0e68a32fe414",
   "metadata": {},
   "outputs": [],
   "source": [
    "def rgmm(D):\n",
    "    w = np.prod(D, axis=1) ** (1/D.shape[0])\n",
    "    return w / w.sum(), {\"or_w\": w}\n",
    "\n",
    "def compute_gci(D, or_w):\n",
    "    n = D.shape[0]\n",
    "    gci = 0\n",
    "    # Sum only elements where i < j\n",
    "    for i in range(n):\n",
    "        for j in range(i + 1, n):\n",
    "            gci += (np.log(D[i][j]) - np.log(or_w[i] / or_w[j])) ** 2\n",
    "            \n",
    "    gci *= (2 / (n -1) * (n-2))\n",
    "\n",
    "    # Matrix dims: 0, 1, 2, 3, 4, 5\n",
    "    THRESHS = [0, 0, 0, 0.1573, 0.3526, 0.370]\n",
    "    thresh = THRESHS[n]\n",
    "\n",
    "    if gci > thresh:\n",
    "        print(f\"GCI(={gci:.3f}) > {thresh} - МПП неузгоджена\")\n",
    "    elif gci > 0:\n",
    "        print(f\"GCI(={gci:.3f}) <= {thresh} - МПП допустимо узгоджена\")\n",
    "    else:\n",
    "        print(f\"GCI = 0.0 - МПП узгоджена\")"
   ]
  },
  {
   "cell_type": "code",
   "execution_count": 3,
   "id": "dbb52942-1d83-42f6-b834-414fea818ef7",
   "metadata": {},
   "outputs": [],
   "source": [
    "def check_fuzy_consistency(mpp):\n",
    "    n = mpp.shape[0]  # Assuming L and U are square matrices of the same size\n",
    "    consistent = True\n",
    "    for i in range(n):\n",
    "        for j in range(n):\n",
    "            max_l = max(mpp[i, k, 0] * mpp[k, j, 0] for k in range(n))\n",
    "            min_u = min(mpp[i, k, -1] * mpp[k, j, -1] for k in range(n))\n",
    "            if max_l > min_u:\n",
    "                consistent = False\n",
    "                print(f\"НМПП неузгоджена. Бо max_k(l_{i+1}k * l_k{j+1}) <= min_k(u_{i+1}k * u_k{j+1})\")\n",
    "                break\n",
    "        if not consistent:\n",
    "            break\n",
    "    if consistent:\n",
    "        print(\"НМПП узгоджена\")\n",
    "\n",
    "def frgmm(D):\n",
    "    w = np.prod(D, axis=1) ** (1/D.shape[0])\n",
    "    return w / w.sum(axis=0)[::-1], {\"or_w\": w}\n",
    "\n",
    "def v_func_s_i_dom_s_j(fuz_i, fuz_j):\n",
    "    if fuz_i[1] >= fuz_j[1]:\n",
    "        return 1\n",
    "    elif fuz_j[0] <= fuz_i[-1] and fuz_i[1] < fuz_j[1]:\n",
    "        return (fuz_i[-1] - fuz_j[0]) / ((fuz_i[-1] - fuz_i[1]) + (fuz_j[1] - fuz_j[0]))\n",
    "    elif fuz_j[0] > fuz_i[-1]:\n",
    "        return 0\n",
    "    else:\n",
    "        raise Exception(f\"No matching condition for fuz_i({fuz_i}) and fuz_j({fuz_j})\")\n",
    "\n",
    "def fahp(D):\n",
    "    RS = D.sum(axis=1)\n",
    "    S = RS / RS[:,::-1].sum(axis=0)\n",
    "    V = np.zeros(D.shape[:-1])\n",
    "    V_si = np.array([[v_func_s_i_dom_s_j(S[i], S[j]) for j in range(len(S))] for i in range(len(S))])\n",
    "    V_si = V_si.min(axis=1)\n",
    "    return V_si / V_si.sum()\n",
    "    \n",
    "\n",
    "def rank(weights):\n",
    "    n = weights.shape[0]\n",
    "    P = np.empty((n, n))\n",
    "    for i in range(n):\n",
    "        for j in range(n):\n",
    "            a_l, a_u = weights[i,0], weights[i,-1]\n",
    "            b_l, b_u = weights[j,0], weights[j,-1]\n",
    "            P[i, j] = (max(a_u - b_l, 0) - max(a_l - b_u, 0)) / ((a_u - b_l) - (a_l - b_u))\n",
    "\n",
    "    ranking = (-P.sum(1)).argsort()\n",
    "    return list(ranking)"
   ]
  },
  {
   "cell_type": "markdown",
   "id": "4701aa4c-9780-429d-b28d-b019e61695a3",
   "metadata": {},
   "source": [
    "# Виклик програми"
   ]
  },
  {
   "cell_type": "markdown",
   "id": "7ed4b3b4-bbc0-499d-87ea-c13ba7bd7503",
   "metadata": {},
   "source": [
    "## Перевіримо алгоритми на матриці з лекції 15-17"
   ]
  },
  {
   "cell_type": "markdown",
   "id": "921242c0-d6a5-41b2-89f6-8ce76d72a03e",
   "metadata": {},
   "source": [
    "Вхідна матриця `A`"
   ]
  },
  {
   "cell_type": "code",
   "execution_count": 4,
   "id": "70876bc1-ed11-4fd1-9e29-4a8a88a4df95",
   "metadata": {},
   "outputs": [
    {
     "data": {
      "text/plain": [
       "array([[[1.        , 1.        , 1.        ],\n",
       "        [4.        , 5.        , 6.        ],\n",
       "        [6.        , 7.        , 8.        ],\n",
       "        [1.        , 2.        , 3.        ],\n",
       "        [7.        , 8.        , 9.        ],\n",
       "        [2.        , 3.        , 4.        ],\n",
       "        [5.        , 6.        , 7.        ],\n",
       "        [3.        , 4.        , 5.        ]],\n",
       "\n",
       "       [[0.167     , 0.2       , 0.25      ],\n",
       "        [1.        , 1.        , 1.        ],\n",
       "        [3.        , 4.        , 5.        ],\n",
       "        [0.2       , 0.25      , 0.33333333],\n",
       "        [5.        , 6.        , 7.        ],\n",
       "        [0.25      , 0.33333333, 0.5       ],\n",
       "        [2.        , 3.        , 4.        ],\n",
       "        [0.333     , 0.5       , 1.        ]],\n",
       "\n",
       "       [[0.125     , 0.14285714, 0.16666667],\n",
       "        [0.2       , 0.25      , 0.33333333],\n",
       "        [1.        , 1.        , 1.        ],\n",
       "        [0.143     , 0.16666667, 0.2       ],\n",
       "        [2.        , 3.        , 4.        ],\n",
       "        [0.167     , 0.2       , 0.25      ],\n",
       "        [0.333     , 0.5       , 1.        ],\n",
       "        [0.2       , 0.25      , 0.33333333]],\n",
       "\n",
       "       [[0.333     , 0.5       , 1.        ],\n",
       "        [3.        , 4.        , 5.        ],\n",
       "        [5.        , 6.        , 7.        ],\n",
       "        [1.        , 1.        , 1.        ],\n",
       "        [6.        , 7.        , 8.        ],\n",
       "        [1.        , 2.        , 3.        ],\n",
       "        [4.        , 5.        , 6.        ],\n",
       "        [2.        , 3.        , 4.        ]],\n",
       "\n",
       "       [[0.111     , 0.25      , 0.14285714],\n",
       "        [0.143     , 0.16666667, 0.2       ],\n",
       "        [0.25      , 0.33333333, 0.5       ],\n",
       "        [0.125     , 0.14285714, 0.16666667],\n",
       "        [1.        , 1.        , 1.        ],\n",
       "        [0.143     , 0.16666667, 0.2       ],\n",
       "        [0.2       , 0.25      , 0.33333333],\n",
       "        [0.143     , 0.16666667, 0.2       ]],\n",
       "\n",
       "       [[0.25      , 0.33333333, 0.5       ],\n",
       "        [2.        , 3.        , 4.        ],\n",
       "        [4.        , 5.        , 6.        ],\n",
       "        [0.333     , 0.5       , 1.        ],\n",
       "        [5.        , 6.        , 7.        ],\n",
       "        [1.        , 1.        , 1.        ],\n",
       "        [3.        , 4.        , 5.        ],\n",
       "        [1.        , 2.        , 3.        ]],\n",
       "\n",
       "       [[0.143     , 0.16666667, 0.2       ],\n",
       "        [0.25      , 0.33333333, 0.5       ],\n",
       "        [1.        , 2.        , 3.        ],\n",
       "        [0.167     , 0.2       , 0.25      ],\n",
       "        [3.        , 4.        , 5.        ],\n",
       "        [0.2       , 0.25      , 0.33333333],\n",
       "        [1.        , 1.        , 1.        ],\n",
       "        [0.25      , 0.33333333, 0.5       ]],\n",
       "\n",
       "       [[0.2       , 0.25      , 0.33333333],\n",
       "        [1.        , 2.        , 3.        ],\n",
       "        [3.        , 4.        , 5.        ],\n",
       "        [0.25      , 0.33333333, 0.5       ],\n",
       "        [5.        , 6.        , 7.        ],\n",
       "        [0.333     , 0.5       , 1.        ],\n",
       "        [2.        , 3.        , 4.        ],\n",
       "        [1.        , 1.        , 1.        ]]])"
      ]
     },
     "execution_count": 4,
     "metadata": {},
     "output_type": "execute_result"
    }
   ],
   "source": [
    "l_matrix = np.array([\n",
    "    [1, 4, 6, 1, 7, 2, 5, 3],\n",
    "    [0.167, 1, 3, 0.2, 5, 0.25, 2, 0.333],\n",
    "    [0.125, 0.2, 1, 0.143, 2, 0.167, 0.333, 0.2],\n",
    "    [0.333, 3, 5, 1, 6, 1, 4, 2],\n",
    "    [0.111, 0.143, 0.25, 0.125, 1, 0.143, 0.2, 0.143],\n",
    "    [0.25, 2, 4, 0.333, 5, 1, 3, 1],\n",
    "    [0.143, 0.25, 1, 0.167, 3, 0.2, 1, 0.25],\n",
    "    [0.2, 1, 3, 0.25, 5, 0.333, 2, 1]\n",
    "])\n",
    "m_matrix = np.array([\n",
    "    [1, 5, 7, 2, 8, 3, 6, 4],\n",
    "    [1/5, 1, 4, 1/4, 6, 1/3, 3, 1/2],\n",
    "    [1/7, 1/4, 1, 1/6, 3, 1/5, 1/2, 1/4],\n",
    "    [1/2, 4, 6, 1, 7, 2, 5, 3],\n",
    "    [1/4, 1/6, 1/3, 1/7, 1, 1/6, 1/4, 1/6],\n",
    "    [1/3, 3, 5, 1/2, 6, 1, 4, 2],\n",
    "    [1/6, 1/3, 2, 1/5, 4, 1/4, 1, 1/3],\n",
    "    [1/4, 2, 4, 1/3, 6, 1/2, 3, 1]\n",
    "])\n",
    "u_matrix = np.array([\n",
    "    [1, 6, 8, 3, 9, 4, 7, 5],\n",
    "    [1/4, 1, 5, 1/3, 7, 1/2, 4, 1],\n",
    "    [1/6, 1/3, 1, 1/5, 4, 1/4, 1, 1/3],\n",
    "    [1, 5, 7, 1, 8, 3, 6, 4],\n",
    "    [1/7, 1/5, 1/2, 1/6, 1, 1/5, 1/3, 1/5],\n",
    "    [1/2, 4, 6, 1, 7, 1, 5, 3],\n",
    "    [1/5, 1/2, 3, 1/4, 5, 1/3, 1, 1/2],\n",
    "    [1/3, 3, 5, 1/2, 7, 1, 4, 1]\n",
    "])\n",
    "\n",
    "A_triang = np.stack((l_matrix,m_matrix,u_matrix), axis=-1)\n",
    "A_triang"
   ]
  },
  {
   "cell_type": "markdown",
   "id": "ef044407-302a-41e2-9a84-3e3614ca6cea",
   "metadata": {},
   "source": [
    "Перевіряємо узгодженість"
   ]
  },
  {
   "cell_type": "code",
   "execution_count": 5,
   "id": "46757a82-72d2-4c4a-922b-70be72e2e4d9",
   "metadata": {},
   "outputs": [
    {
     "name": "stdout",
     "output_type": "stream",
     "text": [
      "НМПП неузгоджена. Бо max_k(l_1k * l_k2) <= min_k(u_1k * u_k2)\n"
     ]
    }
   ],
   "source": [
    "check_fuzy_consistency(A_triang)"
   ]
  },
  {
   "cell_type": "markdown",
   "id": "f928e8ba-21c2-4317-a72a-f21a1af30544",
   "metadata": {},
   "source": [
    "Використаємо метод `FRGMM` для підрахунку нечітких ваг і метод `Ступення переваги` для ранжування"
   ]
  },
  {
   "cell_type": "code",
   "execution_count": 6,
   "id": "75dc7768-ae1f-4aaf-85c7-64687dbeb728",
   "metadata": {},
   "outputs": [],
   "source": [
    "frgmm_weights, add_outputs = frgmm(A_triang)"
   ]
  },
  {
   "cell_type": "code",
   "execution_count": 7,
   "id": "3856fd5a-ff0a-494f-a250-aacf27510fa3",
   "metadata": {},
   "outputs": [
    {
     "name": "stdout",
     "output_type": "stream",
     "text": [
      "w1 [0.19532499 0.32439208 0.51699984]\n",
      "w2 [0.04932993 0.08084424 0.14186928]\n",
      "w3 [0.02067836 0.03285483 0.0565234 ]\n",
      "w4 [0.13348304 0.22937984 0.39283493]\n",
      "w5 [0.0130724  0.02127066 0.03117884]\n",
      "w6 [0.08972215 0.15677537 0.27777624]\n",
      "w7 [0.02798752 0.04667544 0.08046996]\n",
      "w8 [0.06169798 0.10780753 0.19354682]\n"
     ]
    }
   ],
   "source": [
    "for idx, weight in enumerate(frgmm_weights, start=1):\n",
    "    print(f\"w{idx}\", weight)"
   ]
  },
  {
   "cell_type": "code",
   "execution_count": 8,
   "id": "8e3aa5a6-d1fe-4bc3-be46-0aa4ba2d9838",
   "metadata": {},
   "outputs": [],
   "source": [
    "ranked_alternatives = rank(frgmm_weights)"
   ]
  },
  {
   "cell_type": "code",
   "execution_count": 9,
   "id": "62b2b558-8ff2-43fd-8640-8fd378c542d7",
   "metadata": {},
   "outputs": [
    {
     "name": "stdout",
     "output_type": "stream",
     "text": [
      "Відсортовані (від кращої до гіршої) альтернативи\n",
      "['a1', 'a4', 'a6', 'a8', 'a2', 'a7', 'a3', 'a5']\n"
     ]
    }
   ],
   "source": [
    "print(\"Відсортовані (від кращої до гіршої) альтернативи\")\n",
    "print([f\"a{idx+1}\" for idx in ranked_alternatives])"
   ]
  },
  {
   "cell_type": "markdown",
   "id": "9b543310-9fa7-470a-a630-a3f4961a0602",
   "metadata": {},
   "source": [
    "Використаємо метод `FAHP` для підрахунку ваг"
   ]
  },
  {
   "cell_type": "code",
   "execution_count": 10,
   "id": "2e51e050-7123-4373-bf61-603fc734025c",
   "metadata": {},
   "outputs": [],
   "source": [
    "fahp_weights = fahp(A_triang)"
   ]
  },
  {
   "cell_type": "code",
   "execution_count": 11,
   "id": "f02fb8d1-572a-4fa6-89d5-263d2a87975c",
   "metadata": {},
   "outputs": [
    {
     "name": "stdout",
     "output_type": "stream",
     "text": [
      "w1 0.40810242421834636\n",
      "w2 0.021243492336286\n",
      "w3 0.0\n",
      "w4 0.30295214022655736\n",
      "w5 0.0\n",
      "w6 0.1868384610485808\n",
      "w7 0.0\n",
      "w8 0.08086348217022961\n"
     ]
    }
   ],
   "source": [
    "for idx, weight in enumerate(fahp_weights, start=1):\n",
    "    print(f\"w{idx}\", weight)"
   ]
  },
  {
   "cell_type": "code",
   "execution_count": 12,
   "id": "94c01c66-8d2f-4d69-b3a3-740575183849",
   "metadata": {},
   "outputs": [
    {
     "name": "stdout",
     "output_type": "stream",
     "text": [
      "Відсортовані (від кращої до гіршої) альтернативи. Альтернативи які мають однакову вагу сортуются за індексом\n",
      "['a1', 'a4', 'a6', 'a8', 'a2', 'a3', 'a5', 'a7']\n"
     ]
    }
   ],
   "source": [
    "print(\"Відсортовані (від кращої до гіршої) альтернативи. Альтернативи які мають однакову вагу сортуются за індексом\")\n",
    "print([f\"a{idx+1}\" for idx in np.argsort(-fahp_weights)])"
   ]
  },
  {
   "cell_type": "markdown",
   "id": "07ca40cc-4505-4768-96ba-d6679ab77ad3",
   "metadata": {},
   "source": [
    "Звіримо з результатами `Lection_ISPPR_15-17_fuzzy_DSS_1.pdf` ст.27\n",
    "\n",
    "![Task_Ref](images/task_ref.png)\n",
    "\n",
    "Значення ваг збігається"
   ]
  },
  {
   "cell_type": "markdown",
   "id": "b31d2a1d-cb4e-4a61-bec9-1e9727a561bf",
   "metadata": {},
   "source": [
    "## Застосуємо алгоритми на матрицю з завдання"
   ]
  },
  {
   "cell_type": "code",
   "execution_count": 13,
   "id": "64f7f2f9-adf6-47a3-aa5b-3f523057d1da",
   "metadata": {},
   "outputs": [
    {
     "data": {
      "text/plain": [
       "array([[[1.        , 1.        ],\n",
       "        [1.        , 1.        ],\n",
       "        [0.16666667, 0.2       ],\n",
       "        [0.25      , 0.33333333]],\n",
       "\n",
       "       [[1.        , 1.        ],\n",
       "        [1.        , 1.        ],\n",
       "        [0.16666667, 0.2       ],\n",
       "        [0.25      , 0.33333333]],\n",
       "\n",
       "       [[5.        , 6.        ],\n",
       "        [5.        , 6.        ],\n",
       "        [1.        , 1.        ],\n",
       "        [4.        , 5.        ]],\n",
       "\n",
       "       [[3.        , 4.        ],\n",
       "        [3.        , 4.        ],\n",
       "        [0.2       , 0.25      ],\n",
       "        [1.        , 1.        ]]])"
      ]
     },
     "execution_count": 13,
     "metadata": {},
     "output_type": "execute_result"
    }
   ],
   "source": [
    "A = np.array([\n",
    "    [[1,1], [1,1], [1/6, 1/5], [1/4, 1/3]],\n",
    "    [[1,1], [1,1], [1/6, 1/5], [1/4, 1/3]],\n",
    "    [[5, 6], [5, 6], [1,1], [4, 5]],\n",
    "    [[3, 4], [3, 4], [1/5, 1/4], [1,1]],\n",
    "])\n",
    "A"
   ]
  },
  {
   "cell_type": "markdown",
   "id": "6a02e88b-ae71-40c7-8f6d-a9537453f74e",
   "metadata": {},
   "source": [
    "Матриця задана у вигляді \n",
    "\n",
    "$$d_{ij} = (l_{ij}, u_{ij})$$\n",
    "\n",
    "Проте для застосування попередніх методів необхіді нечіткі трикутні числа\n",
    "\n",
    "$$d_{ij} = (l_{ij}, m_{ij}, u_{ij})$$\n",
    "\n",
    "Покладемо\n",
    "\n",
    "$$m_{ij} = (l_{ij} + u_{ij}) / 2$$"
   ]
  },
  {
   "cell_type": "code",
   "execution_count": 14,
   "id": "169967af-8195-40c9-b446-ef5ee8130200",
   "metadata": {},
   "outputs": [
    {
     "data": {
      "text/plain": [
       "array([[[1.        , 1.        , 1.        ],\n",
       "        [1.        , 1.        , 1.        ],\n",
       "        [0.16666667, 0.18181818, 0.2       ],\n",
       "        [0.25      , 0.28571429, 0.33333333]],\n",
       "\n",
       "       [[1.        , 1.        , 1.        ],\n",
       "        [1.        , 1.        , 1.        ],\n",
       "        [0.16666667, 0.18181818, 0.2       ],\n",
       "        [0.25      , 0.28571429, 0.33333333]],\n",
       "\n",
       "       [[5.        , 5.5       , 6.        ],\n",
       "        [5.        , 5.5       , 6.        ],\n",
       "        [1.        , 1.        , 1.        ],\n",
       "        [4.        , 4.5       , 5.        ]],\n",
       "\n",
       "       [[3.        , 3.5       , 4.        ],\n",
       "        [3.        , 3.5       , 4.        ],\n",
       "        [0.2       , 0.22222222, 0.25      ],\n",
       "        [1.        , 1.        , 1.        ]]])"
      ]
     },
     "execution_count": 14,
     "metadata": {},
     "output_type": "execute_result"
    }
   ],
   "source": [
    "A_triang = np.array([\n",
    "    [[1,1,1], [1,1,1], [1/6, (1/5.5), 1/5], [1/4, (1/3.5), 1/3]],\n",
    "    [[1,1,1], [1,1,1], [1/6, (1/5.5), 1/5], [1/4, (1/3.5), 1/3]],\n",
    "    [[5, 5.5, 6], [5, 5.5, 6], [1,1,1], [4, 4.5, 5]],\n",
    "    [[3, 3.5, 4], [3, 3.5, 4], [1/5, (1/4.5), 1/4], [1,1,1]],\n",
    "])\n",
    "A_triang"
   ]
  },
  {
   "cell_type": "markdown",
   "id": "a20e8cf2-d4bf-4915-895d-d57a4c519e23",
   "metadata": {},
   "source": [
    "Перевіряємо узгодженість"
   ]
  },
  {
   "cell_type": "code",
   "execution_count": 15,
   "id": "8cd72017-7a55-42ca-98e1-68383bd988f9",
   "metadata": {},
   "outputs": [
    {
     "name": "stdout",
     "output_type": "stream",
     "text": [
      "НМПП неузгоджена. Бо max_k(l_1k * l_k3) <= min_k(u_1k * u_k3)\n"
     ]
    }
   ],
   "source": [
    "check_fuzy_consistency(A_triang)"
   ]
  },
  {
   "cell_type": "markdown",
   "id": "adbea2cd-dad2-4d89-afce-e94a6933e325",
   "metadata": {},
   "source": [
    "Використаємо метод `FRGMM` для підрахунку нечітких ваг і метод `Ступення переваги` для ранжування"
   ]
  },
  {
   "cell_type": "code",
   "execution_count": 16,
   "id": "5ad5e48d-e4c7-4f53-9e42-cf76aefe1f59",
   "metadata": {},
   "outputs": [],
   "source": [
    "frgmm_weights, add_outputs = frgmm(A_triang)"
   ]
  },
  {
   "cell_type": "code",
   "execution_count": 17,
   "id": "69e001bb-9598-4dc1-bd50-a524e5476370",
   "metadata": {},
   "outputs": [
    {
     "name": "stdout",
     "output_type": "stream",
     "text": [
      "w1 [0.07414693 0.08442205 0.0972657 ]\n",
      "w2 [0.07414693 0.08442205 0.0972657 ]\n",
      "w3 [0.51897445 0.60401546 0.70113343]\n",
      "w4 [0.19009211 0.22714044 0.27070579]\n"
     ]
    }
   ],
   "source": [
    "for idx, weight in enumerate(frgmm_weights, start=1):\n",
    "    print(f\"w{idx}\", weight)"
   ]
  },
  {
   "cell_type": "code",
   "execution_count": 18,
   "id": "60ea8320-20f4-4415-af12-42c080dc7ca7",
   "metadata": {},
   "outputs": [],
   "source": [
    "ranked_alternatives = rank(frgmm_weights)"
   ]
  },
  {
   "cell_type": "code",
   "execution_count": 19,
   "id": "e4591426-e1f8-4488-a6c7-30cfe741febb",
   "metadata": {},
   "outputs": [
    {
     "name": "stdout",
     "output_type": "stream",
     "text": [
      "Відсортовані (від кращої до гіршої) альтернативи\n",
      "['a3', 'a4', 'a1', 'a2']\n"
     ]
    }
   ],
   "source": [
    "print(\"Відсортовані (від кращої до гіршої) альтернативи\")\n",
    "print([f\"a{idx+1}\" for idx in ranked_alternatives])"
   ]
  },
  {
   "cell_type": "markdown",
   "id": "acf92147-9094-46b5-b30b-8bc5d43577f8",
   "metadata": {},
   "source": [
    "Використаємо метод `FAHP` для підрахунку ваг"
   ]
  },
  {
   "cell_type": "code",
   "execution_count": 20,
   "id": "04371e86-621e-449e-89ab-506d504f17dc",
   "metadata": {},
   "outputs": [],
   "source": [
    "fahp_weights = fahp(A_triang)"
   ]
  },
  {
   "cell_type": "code",
   "execution_count": 21,
   "id": "9f28317f-a3f1-4465-a258-49808f10ea6d",
   "metadata": {},
   "outputs": [
    {
     "name": "stdout",
     "output_type": "stream",
     "text": [
      "w1 0.0\n",
      "w2 0.0\n",
      "w3 1.0\n",
      "w4 0.0\n"
     ]
    }
   ],
   "source": [
    "for idx, weight in enumerate(fahp_weights, start=1):\n",
    "    print(f\"w{idx}\", weight)"
   ]
  },
  {
   "cell_type": "code",
   "execution_count": 22,
   "id": "ddcf2b7c-c996-4210-8f43-b2fab67bfe6c",
   "metadata": {},
   "outputs": [
    {
     "name": "stdout",
     "output_type": "stream",
     "text": [
      "Відсортовані (від кращої до гіршої) альтернативи. Альтернативи які мають однакову вагу сортуются за індексом\n",
      "['a3', 'a1', 'a2', 'a4']\n"
     ]
    }
   ],
   "source": [
    "print(\"Відсортовані (від кращої до гіршої) альтернативи. Альтернативи які мають однакову вагу сортуются за індексом\")\n",
    "print([f\"a{idx+1}\" for idx in np.argsort(-fahp_weights)])"
   ]
  },
  {
   "cell_type": "markdown",
   "id": "65b9e7e4-f76a-4b59-9973-f3cd2af6d9ee",
   "metadata": {},
   "source": [
    "Перейдемо до чіткої МПП, елементи якої – це середнє геометричне значення кінців інтервалів заданої ІМПП"
   ]
  },
  {
   "cell_type": "code",
   "execution_count": 23,
   "id": "679eef67-3998-453d-b273-06e2be1fbf2f",
   "metadata": {},
   "outputs": [
    {
     "data": {
      "text/plain": [
       "array([[1.        , 1.        , 0.18257419, 0.28867513],\n",
       "       [1.        , 1.        , 0.18257419, 0.28867513],\n",
       "       [5.47722558, 5.47722558, 1.        , 4.47213595],\n",
       "       [3.46410162, 3.46410162, 0.2236068 , 1.        ]])"
      ]
     },
     "execution_count": 23,
     "metadata": {},
     "output_type": "execute_result"
    }
   ],
   "source": [
    "A_nf = np.prod(A, axis=-1) ** (1/A.shape[-1])\n",
    "A_nf"
   ]
  },
  {
   "cell_type": "markdown",
   "id": "72541f0d-6e76-4bce-85a7-0f8d9c1bdb91",
   "metadata": {},
   "source": [
    "![Task_Prev](images/task_lab_1.png)\n",
    "\n",
    "Знайдемо ваги альтернатив методом `RGMM` та дослідимо узгодженість за допомгою індексу `GCI`"
   ]
  },
  {
   "cell_type": "code",
   "execution_count": 24,
   "id": "f0c06230-251a-43fb-a7c4-c3db238f4274",
   "metadata": {},
   "outputs": [],
   "source": [
    "rgmm_weights, add_outputs = rgmm(A_nf)"
   ]
  },
  {
   "cell_type": "code",
   "execution_count": 25,
   "id": "a2cf18c3-b6e7-4096-b13c-62447eb9049c",
   "metadata": {},
   "outputs": [
    {
     "name": "stdout",
     "output_type": "stream",
     "text": [
      "w1 0.08493095335244578\n",
      "w2 0.08493095335244578\n",
      "w3 0.6032715918622685\n",
      "w4 0.2268665014328399\n"
     ]
    }
   ],
   "source": [
    "for idx, weight in enumerate(rgmm_weights, start=1):\n",
    "    print(f\"w{idx}\", weight)"
   ]
  },
  {
   "cell_type": "code",
   "execution_count": 26,
   "id": "93f482dd-eede-448e-8c4f-10725772b647",
   "metadata": {},
   "outputs": [
    {
     "name": "stdout",
     "output_type": "stream",
     "text": [
      "GCI(=0.721) > 0.3526 - МПП неузгоджена\n"
     ]
    }
   ],
   "source": [
    "compute_gci(A_nf, **add_outputs)"
   ]
  },
  {
   "cell_type": "code",
   "execution_count": 27,
   "id": "d478f403-c69a-43be-9aa9-51bfd6a1fce1",
   "metadata": {},
   "outputs": [
    {
     "name": "stdout",
     "output_type": "stream",
     "text": [
      "Відсортовані (від кращої до гіршої) альтернативи\n",
      "['a3', 'a4', 'a1', 'a2']\n"
     ]
    }
   ],
   "source": [
    "print(\"Відсортовані (від кращої до гіршої) альтернативи\")\n",
    "print([f\"a{idx+1}\" for idx in np.argsort(-rgmm_weights)])"
   ]
  },
  {
   "cell_type": "markdown",
   "id": "80fccfd1-fb4a-416a-bb60-c6754fc4a520",
   "metadata": {},
   "source": [
    "Ранжування в чіткому випадку співпадає з ранжування в нечіткому випадку з точністю до альтернатив з ненульовими вагами, отриманих з методу `FAHP`"
   ]
  },
  {
   "cell_type": "markdown",
   "id": "95a7bcfd-2a97-40da-863a-f06e11dcce4e",
   "metadata": {},
   "source": [
    "# Висновки"
   ]
  },
  {
   "cell_type": "markdown",
   "id": "928920c5-11e3-4daa-8858-8f680f36bb56",
   "metadata": {},
   "source": [
    "В даній роботі було досліджено метод розрахунку ваг альтернатив для нечітких МПП. Був використаний метод `FRGMM` для підрахунку нечітких ваг, а потім метод `Ступеня перваги` для ранжування альтернатив. Також був використаний метод `FAHP` для підрахунку чітких ваг. Потім з нечіткої МПП було отримано чітку й використано метод `RGMM` для підрахунку ваг. Ранжування в чіткому випадку співпадає з ранжування в нечіткому випадку з точністю до альтернатив з ненульовими вагами, отриманих з методу `FAHP`. Нечітка МПП була досліджена на узогдженість за критерієм, а чітка за індексом `GCI`. Всі використані методи було запрограмовано, текст програми наведено в звіті."
   ]
  },
  {
   "cell_type": "code",
   "execution_count": null,
   "id": "ed9d4d22-5b33-4bb8-ab55-49ccb7eebabe",
   "metadata": {},
   "outputs": [],
   "source": []
  }
 ],
 "metadata": {
  "kernelspec": {
   "display_name": "Python 3 (ipykernel)",
   "language": "python",
   "name": "python3"
  },
  "language_info": {
   "codemirror_mode": {
    "name": "ipython",
    "version": 3
   },
   "file_extension": ".py",
   "mimetype": "text/x-python",
   "name": "python",
   "nbconvert_exporter": "python",
   "pygments_lexer": "ipython3",
   "version": "3.10.12"
  }
 },
 "nbformat": 4,
 "nbformat_minor": 5
}
