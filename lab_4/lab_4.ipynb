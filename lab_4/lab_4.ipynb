{
 "cells": [
  {
   "cell_type": "markdown",
   "id": "0d44536b-7d85-4e6f-8173-18c8b7a6ec9b",
   "metadata": {},
   "source": [
    "# Комп'ютерний практикум №4\n",
    "## Сидорський Володимир Сергійович (КА-21ф)\n",
    "## Варіант 5"
   ]
  },
  {
   "cell_type": "markdown",
   "id": "ca8084bb-8479-477f-9a0b-d2a279d6d6b7",
   "metadata": {},
   "source": [
    "# Завдання"
   ]
  },
  {
   "cell_type": "markdown",
   "id": "2ab7d3aa-d833-4b69-b2cb-0f8e124297e8",
   "metadata": {},
   "source": [
    "![Task_1](images/task_num_1.png)\n",
    "\n",
    "![Task_2](images/task_num_2.png)\n",
    "\n",
    "![Task_3](images/task_num_3.png)"
   ]
  },
  {
   "cell_type": "markdown",
   "id": "e7e9ec63-8dc2-4ffb-9cfa-1b06d0342b05",
   "metadata": {},
   "source": [
    "# Програма"
   ]
  },
  {
   "cell_type": "code",
   "execution_count": 1,
   "id": "2ecc7659-d2be-4379-a8eb-0e68a32fe414",
   "metadata": {},
   "outputs": [],
   "source": [
    "import numpy as np\n",
    "import scipy\n",
    "\n",
    "\n",
    "def method_CI(A):\n",
    "    def calc_CI(A_trimmed):\n",
    "        N = A_trimmed.shape[0]\n",
    "        lam_max = np.linalg.eigvals(A_trimmed).max()\n",
    "        return (lam_max - N) / (N-1)\n",
    "\n",
    "    CIs = [calc_CI(np.delete(np.delete(A, i, axis=0), i, axis=1)) for i in range(A.shape[0])]\n",
    "    sorted_idxs_by_CI = np.argsort(CIs)\n",
    "    outlier_i, outlier_j = np.sort(sorted_idxs_by_CI[:2])\n",
    "    \n",
    "    print(f\"Викид за методом CI: D{(outlier_i+1, outlier_j+1)} і його оберений. значення = {A[outlier_i, outlier_j]}\")\n",
    "\n",
    "\n",
    "\n",
    "def method_corr(A):\n",
    "    N = A.shape[0]\n",
    "    \n",
    "    corr = []\n",
    "    for i in range(A.shape[0]):\n",
    "        row_x = A[i]\n",
    "        std_x = np.std(row_x)\n",
    "        m_corr = 0\n",
    "        for i_y in range(A.shape[0]):\n",
    "            if i_y == i: continue\n",
    "            row_y = A[i_y]\n",
    "            std_y = np.std(row_y)\n",
    "            m_corr += (1.0 / (N - 1)) * np.sum((row_x - row_x.mean()) * (row_y - row_y.mean())) / (std_x * std_y) \n",
    "        m_corr /= N - 1\n",
    "        corr.append(m_corr)\n",
    "    outlier_i = np.argmin(corr)\n",
    "    \n",
    "    corr = []\n",
    "    for j in range(A.shape[1]):\n",
    "        col_x = A[:, j]\n",
    "        std_x = np.std(col_x)\n",
    "        m_corr = 0\n",
    "        for j_y in range(A.shape[1]):\n",
    "            if j_y == j: continue\n",
    "            col_y = A[:, j_y]\n",
    "            std_y = np.std(col_y)\n",
    "            m_corr += 1.0 / (N - 1) * np.sum((col_x - col_x.mean()) * (col_y - col_y.mean())) / std_x / std_y \n",
    "        m_corr /= N - 1\n",
    "        corr.append(m_corr)\n",
    "    outlier_j = np.argmin(corr)\n",
    "                \n",
    "    print(f\"Викид за методом кореляцій між рядками і стовпчиками D{(outlier_i+1, outlier_j+1)} і його оберений. значення = {A[outlier_i, outlier_j]}\")\n",
    "\n",
    "\n",
    "def method_chi_sq(A):\n",
    "    N = A.shape[0]\n",
    "    Delta = np.empty((N, N))\n",
    "    for i in range(A.shape[0]):\n",
    "        for j in range(A.shape[1]):\n",
    "            t_ij = A[i,:].sum() * A[:,j].sum() / A.sum()\n",
    "            Delta[i,j] = (A[i,j] - t_ij)**2 / t_ij\n",
    "\n",
    "    delta_std = Delta.flatten().std()\n",
    "    delta_mean = Delta.mean()\n",
    "    print(\"Викиди за методом Хі-квадрат:\")\n",
    "    for i in range(N):\n",
    "        for j in range(N):\n",
    "            if Delta[i, j] > delta_mean + delta_std * 1.645 / np.sqrt(N):\n",
    "                print(f\"D{i+1, j+1} і його обернений. значення = {A[i,j]}\")\n",
    "\n",
    "def method_transitive(A):\n",
    "    N = A.shape[0]\n",
    "    S = np.empty((N, N))\n",
    "    outlier_i = -1\n",
    "    outlier_j = -1\n",
    "    S_ij_max = float(\"-inf\")\n",
    "    for i in range(A.shape[0]):\n",
    "        for j in range(A.shape[1]):\n",
    "            S_ij = np.sum(A[i,j] * A[j, :] / A[i, :] + A[i,:] / A[i, j] / A[j, :] - 2)\n",
    "            if S_ij > S_ij_max:\n",
    "                S_ij_max = S_ij\n",
    "                outlier_i = i\n",
    "                outlier_j = j\n",
    "    print(f\"Викид за методом Транзитивностей D{(outlier_i+1, outlier_j+1)} і його обернений. value = {A[outlier_i, outlier_j]}\")\n",
    "\n",
    "\n",
    "def method_M_OutFlow(A):\n",
    "    N = A.shape[0]\n",
    "    Phi_pos = np.empty(N)\n",
    "    Phi_neg = np.empty(N)\n",
    "    for i in range(A.shape[0]):\n",
    "        Phi_pos[i] = (A[i, :] > 1).sum()\n",
    "        Phi_neg[i] = (A[:, i] > 1).sum()\n",
    "\n",
    "    gamma_max = float(\"-inf\")\n",
    "    max_val = float(\"-inf\")\n",
    "    outlier_i = -1\n",
    "    outlier_j = -1\n",
    "\n",
    "    for i in range(A.shape[0]):\n",
    "        for j in range(A.shape[1]):\n",
    "            if A[i, j] <= 1: continue\n",
    "                \n",
    "            val = max(Phi_pos[j] - Phi_pos[i], Phi_neg[i] - Phi_neg[j])\n",
    "            gamma_ = np.log(A[i, j]) - np.log(A[i, :] * A[:, j])\n",
    "            mask = np.ones(gamma_.shape[0])\n",
    "            mask[i] = 0.0\n",
    "            mask[j] = 0.0\n",
    "            gamma = 1.0 / (N - 2.0) * np.sum(gamma_ * mask)\n",
    "            \n",
    "            \n",
    "            if val > max_val or (val == max_val and gamma >= gamma_max):\n",
    "                outlier_i = i\n",
    "                outlier_j = j\n",
    "                max_val = val\n",
    "                gamma_max = gamma\n",
    "\n",
    "    print(f\"Викид за методом M_OutFlow D{(outlier_i+1, outlier_j+1)} і його обернений. значення = {A[outlier_i, outlier_j]}\")"
   ]
  },
  {
   "cell_type": "markdown",
   "id": "4701aa4c-9780-429d-b28d-b019e61695a3",
   "metadata": {},
   "source": [
    "# Виклик програми"
   ]
  },
  {
   "cell_type": "markdown",
   "id": "e9a0150f-b8b8-4fc5-88da-bfef70f55654",
   "metadata": {},
   "source": [
    "Вхідна матриця `A`"
   ]
  },
  {
   "cell_type": "code",
   "execution_count": 2,
   "id": "92f34669-7c57-4668-8116-c9fc2619de42",
   "metadata": {},
   "outputs": [
    {
     "data": {
      "text/plain": [
       "array([[1.   , 0.5  , 0.25 , 2.   , 1.   , 0.5  , 2.   ],\n",
       "       [2.   , 1.   , 0.25 , 0.5  , 1.   , 0.5  , 2.   ],\n",
       "       [4.   , 4.   , 1.   , 2.   , 5.   , 2.   , 0.142],\n",
       "       [0.5  , 2.   , 0.5  , 1.   , 2.   , 1.   , 4.   ],\n",
       "       [1.   , 1.   , 0.2  , 0.5  , 1.   , 0.5  , 2.   ],\n",
       "       [2.   , 2.   , 0.5  , 1.   , 2.   , 1.   , 4.   ],\n",
       "       [0.5  , 0.5  , 7.   , 0.25 , 0.5  , 0.25 , 1.   ]])"
      ]
     },
     "execution_count": 2,
     "metadata": {},
     "output_type": "execute_result"
    }
   ],
   "source": [
    "A = np.array([\n",
    "    [1, 0.5, 0.25, 2, 1, 0.5, 2],\n",
    "    [2, 1, 0.25, 0.5, 1, 0.5, 2],\n",
    "    [4, 4, 1, 2, 5, 2, 0.142],\n",
    "    [0.5, 2, 0.5, 1, 2, 1, 4],\n",
    "    [1, 1, 0.2, 0.5, 1, 0.5, 2],\n",
    "    [2, 2, 0.5, 1, 2, 1, 4],\n",
    "    [0.5, 0.5, 7, 0.25, 0.5, 0.25, 1]\n",
    "])\n",
    "A"
   ]
  },
  {
   "cell_type": "markdown",
   "id": "931f809f-5bbe-4cae-9129-da903738a54f",
   "metadata": {},
   "source": [
    "Застосуємо усі необіхдні методи для знаходження викидів"
   ]
  },
  {
   "cell_type": "code",
   "execution_count": 3,
   "id": "8b83eaa4-f3ce-4c71-82f9-b87e74d81bc6",
   "metadata": {},
   "outputs": [
    {
     "name": "stdout",
     "output_type": "stream",
     "text": [
      "Викид за методом CI: D(3, 7) і його оберений. значення = 0.142\n"
     ]
    }
   ],
   "source": [
    "method_CI(A)"
   ]
  },
  {
   "cell_type": "code",
   "execution_count": 4,
   "id": "bece2381-fd65-4792-99c5-00f138ba76f3",
   "metadata": {},
   "outputs": [
    {
     "name": "stdout",
     "output_type": "stream",
     "text": [
      "Викид за методом кореляцій між рядками і стовпчиками D(7, 3) і його оберений. значення = 7.0\n"
     ]
    }
   ],
   "source": [
    "method_corr(A)"
   ]
  },
  {
   "cell_type": "code",
   "execution_count": 5,
   "id": "9b7253d0-f4d5-42fe-9cf3-310bf7aec215",
   "metadata": {},
   "outputs": [
    {
     "name": "stdout",
     "output_type": "stream",
     "text": [
      "Викиди за методом Хі-квадрат:\n",
      "D(3, 7) і його обернений. значення = 0.142\n",
      "D(7, 3) і його обернений. значення = 7.0\n"
     ]
    }
   ],
   "source": [
    "method_chi_sq(A)"
   ]
  },
  {
   "cell_type": "code",
   "execution_count": 6,
   "id": "b702c692-7a14-4d74-b92c-407ff73a896c",
   "metadata": {},
   "outputs": [
    {
     "name": "stdout",
     "output_type": "stream",
     "text": [
      "Викид за методом Транзитивностей D(3, 7) і його обернений. value = 0.142\n"
     ]
    }
   ],
   "source": [
    "method_transitive(A)"
   ]
  },
  {
   "cell_type": "code",
   "execution_count": 7,
   "id": "d5477e7a-00a2-4f08-bc20-bf08b6b72278",
   "metadata": {},
   "outputs": [
    {
     "name": "stdout",
     "output_type": "stream",
     "text": [
      "Викид за методом M_OutFlow D(7, 3) і його обернений. значення = 7.0\n"
     ]
    }
   ],
   "source": [
    "method_M_OutFlow(A)"
   ]
  },
  {
   "cell_type": "markdown",
   "id": "95a7bcfd-2a97-40da-863a-f06e11dcce4e",
   "metadata": {},
   "source": [
    "# Висновки"
   ]
  },
  {
   "cell_type": "markdown",
   "id": "928920c5-11e3-4daa-8858-8f680f36bb56",
   "metadata": {},
   "source": [
    "В даній роботі, було імплементовано та досліджено методи знаходження найбільш неузгоджених експертних оцінок парних порівнянь: `СІ для укороченої МПП`, `кореляції між рядками і стовпчиками МПП`, `метод, що використовує критерій Хі-квадрат`, `метод транзитивностей` та `метод потоків M_OutFlow`. Всі методи знайшли один і той самий викид або його обернений або обидва. Всі використані методи було запрограмовано, текст програми наведено в звіті."
   ]
  },
  {
   "cell_type": "code",
   "execution_count": null,
   "id": "ed9d4d22-5b33-4bb8-ab55-49ccb7eebabe",
   "metadata": {},
   "outputs": [],
   "source": []
  }
 ],
 "metadata": {
  "kernelspec": {
   "display_name": "Python 3 (ipykernel)",
   "language": "python",
   "name": "python3"
  },
  "language_info": {
   "codemirror_mode": {
    "name": "ipython",
    "version": 3
   },
   "file_extension": ".py",
   "mimetype": "text/x-python",
   "name": "python",
   "nbconvert_exporter": "python",
   "pygments_lexer": "ipython3",
   "version": "3.10.12"
  }
 },
 "nbformat": 4,
 "nbformat_minor": 5
}
