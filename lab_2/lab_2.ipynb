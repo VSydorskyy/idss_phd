{
 "cells": [
  {
   "cell_type": "markdown",
   "id": "0d44536b-7d85-4e6f-8173-18c8b7a6ec9b",
   "metadata": {},
   "source": [
    "# Комп'ютерний практикум №2\n",
    "## Сидорський Володимир Сергійович (КА-21ф)\n",
    "## Варіант 5"
   ]
  },
  {
   "cell_type": "markdown",
   "id": "ca8084bb-8479-477f-9a0b-d2a279d6d6b7",
   "metadata": {},
   "source": [
    "# Завдання"
   ]
  },
  {
   "cell_type": "markdown",
   "id": "2ab7d3aa-d833-4b69-b2cb-0f8e124297e8",
   "metadata": {},
   "source": [
    "![Task_main](images/task_1.png)\n",
    "\n",
    "\n",
    "![Task_input](images/task_2.png)"
   ]
  },
  {
   "cell_type": "markdown",
   "id": "e7e9ec63-8dc2-4ffb-9cfa-1b06d0342b05",
   "metadata": {},
   "source": [
    "# Програма"
   ]
  },
  {
   "cell_type": "code",
   "execution_count": 1,
   "id": "086c5e25-c1c6-4094-bc85-729ee01b1d9f",
   "metadata": {},
   "outputs": [],
   "source": [
    "import numpy as np\n",
    "import pandas as pd"
   ]
  },
  {
   "cell_type": "code",
   "execution_count": 2,
   "id": "2ecc7659-d2be-4379-a8eb-0e68a32fe414",
   "metadata": {},
   "outputs": [],
   "source": [
    "def rgmm(D):\n",
    "    w = np.prod(D, axis=1) ** (1/D.shape[0])\n",
    "    return w / w.sum(), {\"or_w\": w}\n",
    "\n",
    "def compute_gci(D, or_w):\n",
    "    n = D.shape[0]\n",
    "    gci = 0\n",
    "    # Sum only elements where i < j\n",
    "    for i in range(n):\n",
    "        for j in range(i + 1, n):\n",
    "            gci += (np.log(D[i][j]) - np.log(or_w[i] / or_w[j])) ** 2\n",
    "            \n",
    "    gci *= (2 / (n -1) * (n-2))\n",
    "\n",
    "    # Matrix dims: 0, 1, 2, 3, 4, 5\n",
    "    THRESHS = [0, 0, 0, 0.1573, 0.3526, 0.370]\n",
    "    thresh = THRESHS[n]\n",
    "\n",
    "    if gci > thresh:\n",
    "        print(f\"GCI(={gci:.3f}) > {thresh} - МПП неузгоджена\")\n",
    "    elif gci > 0:\n",
    "        print(f\"GCI(={gci:.3f}) <= {thresh} - МПП допустимо узгоджена\")\n",
    "    else:\n",
    "        print(f\"GCI = 0.0 - МПП узгоджена\")\n",
    "\n",
    "def make_pretty_interval(interval):\n",
    "    return f\"[{round(interval[0], 4)}, {round(interval[1], 4)}]\"\n",
    "\n",
    "def compute_one_stability_index(interval):\n",
    "    return min(1 / interval[0], interval[1])\n",
    "\n",
    "def compute_stable_intervals_for_best_alt(input_mpp, input_weights, sort_weights=True, alternative_names=None):\n",
    "    D = input_mpp.copy()\n",
    "    weights = input_weights.copy()\n",
    "    if sort_weights:\n",
    "        sorted_ids = np.argsort(-weights)\n",
    "        D = D[np.ix_(sorted_ids, sorted_ids)]\n",
    "        weights = weights[sorted_ids]\n",
    "\n",
    "    intervals_low, intervals_high = np.full_like(D, np.nan), np.full_like(D, np.nan) \n",
    "    n = D.shape[0]\n",
    "    \n",
    "    d_1_j_low = np.maximum(\n",
    "        D[0, 1:] * (weights[1:] / weights[0]) ** (n/2),\n",
    "        np.max(D[0, 1:, np.newaxis] * ((weights[1:]/weights[0])**n), axis=1)\n",
    "    ) \n",
    "    intervals_low[0,1:] = d_1_j_low\n",
    "    intervals_high[0,1:] = 9\n",
    "\n",
    "    for k in range(1, n):\n",
    "        for j in range(1, n):\n",
    "            if j > k:\n",
    "                intervals_low[k,j] = D[k,j] * ((weights[j] / weights[0]) ** n)\n",
    "                intervals_high[k,j] = min(D[k,j] * ((weights[0] / weights[k]) ** n), 9)\n",
    "\n",
    "    if sort_weights:\n",
    "        sorted_back_ids = np.argsort(sorted_ids)\n",
    "        intervals_low = intervals_low[np.ix_(sorted_back_ids, sorted_back_ids)]\n",
    "        intervals_high = intervals_high[np.ix_(sorted_back_ids, sorted_back_ids)]\n",
    "    \n",
    "    all_intervals = np.stack([intervals_low, intervals_high], axis=-1)\n",
    "\n",
    "    intervals_table = [\n",
    "        [make_pretty_interval(all_intervals[i,j]) if not np.isnan(all_intervals[i,j]).all() else \"-\" for j in range(all_intervals.shape[1])]\n",
    "        for i in range(all_intervals.shape[0])\n",
    "    ]\n",
    "    intervals_table = pd.DataFrame(intervals_table)\n",
    "    if alternative_names is not None:\n",
    "        intervals_table.columns = alternative_names\n",
    "        intervals_table.index = alternative_names\n",
    "    \n",
    "    return all_intervals, intervals_table\n",
    "\n",
    "def compute_stable_index_for_best_alt(stable_intervals, alternative_names=None):\n",
    "    index_table = [\n",
    "        [compute_one_stability_index(stable_intervals[i,j]) if not np.isnan(stable_intervals[i,j]).all() else \"-\" for j in range(stable_intervals.shape[1])]\n",
    "        for i in range(stable_intervals.shape[0])\n",
    "    ]\n",
    "    index_table = pd.DataFrame(index_table)\n",
    "    if alternative_names is not None:\n",
    "        index_table.columns = alternative_names\n",
    "        index_table.index = alternative_names\n",
    "    return index_table"
   ]
  },
  {
   "cell_type": "markdown",
   "id": "4701aa4c-9780-429d-b28d-b019e61695a3",
   "metadata": {},
   "source": [
    "# Виклик програми"
   ]
  },
  {
   "cell_type": "markdown",
   "id": "921242c0-d6a5-41b2-89f6-8ce76d72a03e",
   "metadata": {},
   "source": [
    "Вхідна матриця `A`"
   ]
  },
  {
   "cell_type": "code",
   "execution_count": 3,
   "id": "64f7f2f9-adf6-47a3-aa5b-3f523057d1da",
   "metadata": {},
   "outputs": [
    {
     "data": {
      "text/plain": [
       "array([[1.        , 2.        , 3.        , 5.        , 7.        ],\n",
       "       [0.5       , 1.        , 2.        , 2.        , 4.        ],\n",
       "       [0.33333333, 0.5       , 1.        , 1.        , 2.        ],\n",
       "       [0.2       , 0.5       , 1.        , 1.        , 9.        ],\n",
       "       [0.14285714, 0.25      , 0.5       , 0.11111111, 1.        ]])"
      ]
     },
     "execution_count": 3,
     "metadata": {},
     "output_type": "execute_result"
    }
   ],
   "source": [
    "A = np.array([\n",
    "    [1, 2, 3, 5, 7],\n",
    "    [1/2, 1, 2, 2, 4],\n",
    "    [1/3, 1/2, 1, 1, 2],\n",
    "    [1/5, 1/2, 1, 1, 9],\n",
    "    [1/7, 1/4, 1/2, 1/9, 1],\n",
    "])\n",
    "A"
   ]
  },
  {
   "cell_type": "markdown",
   "id": "bc8d7fca-2221-49ef-b15c-b77858a39406",
   "metadata": {},
   "source": [
    "Знайдемо ваги альтернатив методом `RGMM` та дослідимо узгодженість за допомгою індексу `GCI`"
   ]
  },
  {
   "cell_type": "code",
   "execution_count": 4,
   "id": "3b356338-b73f-46a0-a53d-e0b02b074379",
   "metadata": {},
   "outputs": [
    {
     "data": {
      "text/plain": [
       "array([0.44830326, 0.23320939, 0.12351047, 0.15065257, 0.0443243 ])"
      ]
     },
     "execution_count": 4,
     "metadata": {},
     "output_type": "execute_result"
    }
   ],
   "source": [
    "alt_weights, add_output = rgmm(A)\n",
    "alt_weights"
   ]
  },
  {
   "cell_type": "code",
   "execution_count": 5,
   "id": "4d5cfa63-8abc-4eaf-9798-08c76c0fdece",
   "metadata": {},
   "outputs": [
    {
     "name": "stdout",
     "output_type": "stream",
     "text": [
      "GCI(=2.527) > 0.37 - МПП неузгоджена\n"
     ]
    }
   ],
   "source": [
    "compute_gci(A, **add_output)"
   ]
  },
  {
   "cell_type": "markdown",
   "id": "34295bea-9ccd-49f8-9aeb-b6a8d5226b1a",
   "metadata": {},
   "source": [
    "Відсортуємо альтернативи за спаданням важливості"
   ]
  },
  {
   "cell_type": "code",
   "execution_count": 6,
   "id": "ac51c819-5b02-4761-b153-fba07486c482",
   "metadata": {},
   "outputs": [
    {
     "name": "stdout",
     "output_type": "stream",
     "text": [
      "Альтернатива (вага):  ['a1(0.4483032609422627)', 'a2(0.23320939182218123)', 'a4(0.1506525686498272)', 'a3(0.12351047388727412)', 'a5(0.044324304698454706)']\n"
     ]
    }
   ],
   "source": [
    "sorted_idxs = np.argsort(-alt_weights)\n",
    "sorted_alt_weights = alt_weights[sorted_idxs]\n",
    "print(\"Альтернатива (вага): \", [f\"a{idx+1}({alt_weights[idx]})\" for idx in sorted_idxs])"
   ]
  },
  {
   "cell_type": "markdown",
   "id": "c189140f-a141-4e62-a172-5e7e5025b093",
   "metadata": {},
   "source": [
    "Відсортуємо відповідним чином матрицю `A` для спрощення подальших обчислень"
   ]
  },
  {
   "cell_type": "code",
   "execution_count": 7,
   "id": "f7ab743a-d8fc-4767-8c9c-4662b5b783fa",
   "metadata": {},
   "outputs": [
    {
     "data": {
      "text/plain": [
       "array([[1.        , 2.        , 5.        , 3.        , 7.        ],\n",
       "       [0.5       , 1.        , 2.        , 2.        , 4.        ],\n",
       "       [0.2       , 0.5       , 1.        , 1.        , 9.        ],\n",
       "       [0.33333333, 0.5       , 1.        , 1.        , 2.        ],\n",
       "       [0.14285714, 0.25      , 0.11111111, 0.5       , 1.        ]])"
      ]
     },
     "execution_count": 7,
     "metadata": {},
     "output_type": "execute_result"
    }
   ],
   "source": [
    "sorted_A = A[np.ix_(sorted_idxs, sorted_idxs)]\n",
    "sorted_A"
   ]
  },
  {
   "cell_type": "markdown",
   "id": "e7ff15af-84e9-4e99-bac0-0931763f62db",
   "metadata": {},
   "source": [
    "Знайдемо інтервали стікйості `RSInt` локального ранжування альернатив для того щоб залишити домінуючу альернативу незмінною"
   ]
  },
  {
   "cell_type": "code",
   "execution_count": 8,
   "id": "22e0a492-e514-4202-a567-fe86d84d171f",
   "metadata": {},
   "outputs": [],
   "source": [
    "numpy_intervals, intervals_table = compute_stable_intervals_for_best_alt(\n",
    "    sorted_A, sorted_alt_weights, \n",
    "    sort_weights=False,\n",
    "    alternative_names=[f\"a{idx+1}\" for idx in sorted_idxs]\n",
    ")"
   ]
  },
  {
   "cell_type": "code",
   "execution_count": 9,
   "id": "f98602fa-91d1-4dca-a7fc-dc231fec0bbc",
   "metadata": {},
   "outputs": [
    {
     "data": {
      "text/html": [
       "<div>\n",
       "<style scoped>\n",
       "    .dataframe tbody tr th:only-of-type {\n",
       "        vertical-align: middle;\n",
       "    }\n",
       "\n",
       "    .dataframe tbody tr th {\n",
       "        vertical-align: top;\n",
       "    }\n",
       "\n",
       "    .dataframe thead th {\n",
       "        text-align: right;\n",
       "    }\n",
       "</style>\n",
       "<table border=\"1\" class=\"dataframe\">\n",
       "  <thead>\n",
       "    <tr style=\"text-align: right;\">\n",
       "      <th></th>\n",
       "      <th>a1</th>\n",
       "      <th>a2</th>\n",
       "      <th>a4</th>\n",
       "      <th>a3</th>\n",
       "      <th>a5</th>\n",
       "    </tr>\n",
       "  </thead>\n",
       "  <tbody>\n",
       "    <tr>\n",
       "      <th>a1</th>\n",
       "      <td>-</td>\n",
       "      <td>[0.3904, 9.0]</td>\n",
       "      <td>[0.3273, 9.0]</td>\n",
       "      <td>[0.1195, 9.0]</td>\n",
       "      <td>[0.2667, 9.0]</td>\n",
       "    </tr>\n",
       "    <tr>\n",
       "      <th>a2</th>\n",
       "      <td>-</td>\n",
       "      <td>-</td>\n",
       "      <td>[0.0086, 9.0]</td>\n",
       "      <td>[0.0032, 9.0]</td>\n",
       "      <td>[0.0, 9.0]</td>\n",
       "    </tr>\n",
       "    <tr>\n",
       "      <th>a4</th>\n",
       "      <td>-</td>\n",
       "      <td>-</td>\n",
       "      <td>-</td>\n",
       "      <td>[0.0016, 9.0]</td>\n",
       "      <td>[0.0001, 9.0]</td>\n",
       "    </tr>\n",
       "    <tr>\n",
       "      <th>a3</th>\n",
       "      <td>-</td>\n",
       "      <td>-</td>\n",
       "      <td>-</td>\n",
       "      <td>-</td>\n",
       "      <td>[0.0, 9.0]</td>\n",
       "    </tr>\n",
       "    <tr>\n",
       "      <th>a5</th>\n",
       "      <td>-</td>\n",
       "      <td>-</td>\n",
       "      <td>-</td>\n",
       "      <td>-</td>\n",
       "      <td>-</td>\n",
       "    </tr>\n",
       "  </tbody>\n",
       "</table>\n",
       "</div>"
      ],
      "text/plain": [
       "   a1             a2             a4             a3             a5\n",
       "a1  -  [0.3904, 9.0]  [0.3273, 9.0]  [0.1195, 9.0]  [0.2667, 9.0]\n",
       "a2  -              -  [0.0086, 9.0]  [0.0032, 9.0]     [0.0, 9.0]\n",
       "a4  -              -              -  [0.0016, 9.0]  [0.0001, 9.0]\n",
       "a3  -              -              -              -     [0.0, 9.0]\n",
       "a5  -              -              -              -              -"
      ]
     },
     "execution_count": 9,
     "metadata": {},
     "output_type": "execute_result"
    }
   ],
   "source": [
    "intervals_table"
   ]
  },
  {
   "cell_type": "markdown",
   "id": "b0da4d97-348b-4061-b354-cec71b0bfeb3",
   "metadata": {},
   "source": [
    "Знайдемо індекс стікйості `RSInd` локального ранжування альернатив для того щоб залишити домінуючу альернативу незмінною"
   ]
  },
  {
   "cell_type": "code",
   "execution_count": 10,
   "id": "be900321-1d22-4f41-a2c2-d9402365ea4c",
   "metadata": {},
   "outputs": [],
   "source": [
    "index_table = compute_stable_index_for_best_alt(\n",
    "    numpy_intervals,\n",
    "    alternative_names=[f\"a{idx+1}\" for idx in sorted_idxs]\n",
    ")"
   ]
  },
  {
   "cell_type": "code",
   "execution_count": 11,
   "id": "fdda9437-e79a-4098-aa4b-a1881b4fe880",
   "metadata": {},
   "outputs": [
    {
     "data": {
      "text/html": [
       "<div>\n",
       "<style scoped>\n",
       "    .dataframe tbody tr th:only-of-type {\n",
       "        vertical-align: middle;\n",
       "    }\n",
       "\n",
       "    .dataframe tbody tr th {\n",
       "        vertical-align: top;\n",
       "    }\n",
       "\n",
       "    .dataframe thead th {\n",
       "        text-align: right;\n",
       "    }\n",
       "</style>\n",
       "<table border=\"1\" class=\"dataframe\">\n",
       "  <thead>\n",
       "    <tr style=\"text-align: right;\">\n",
       "      <th></th>\n",
       "      <th>a1</th>\n",
       "      <th>a2</th>\n",
       "      <th>a4</th>\n",
       "      <th>a3</th>\n",
       "      <th>a5</th>\n",
       "    </tr>\n",
       "  </thead>\n",
       "  <tbody>\n",
       "    <tr>\n",
       "      <th>a1</th>\n",
       "      <td>-</td>\n",
       "      <td>2.561738</td>\n",
       "      <td>3.05505</td>\n",
       "      <td>8.3666</td>\n",
       "      <td>3.75</td>\n",
       "    </tr>\n",
       "    <tr>\n",
       "      <th>a2</th>\n",
       "      <td>-</td>\n",
       "      <td>-</td>\n",
       "      <td>9.0</td>\n",
       "      <td>9.0</td>\n",
       "      <td>9.0</td>\n",
       "    </tr>\n",
       "    <tr>\n",
       "      <th>a4</th>\n",
       "      <td>-</td>\n",
       "      <td>-</td>\n",
       "      <td>-</td>\n",
       "      <td>9.0</td>\n",
       "      <td>9.0</td>\n",
       "    </tr>\n",
       "    <tr>\n",
       "      <th>a3</th>\n",
       "      <td>-</td>\n",
       "      <td>-</td>\n",
       "      <td>-</td>\n",
       "      <td>-</td>\n",
       "      <td>9.0</td>\n",
       "    </tr>\n",
       "    <tr>\n",
       "      <th>a5</th>\n",
       "      <td>-</td>\n",
       "      <td>-</td>\n",
       "      <td>-</td>\n",
       "      <td>-</td>\n",
       "      <td>-</td>\n",
       "    </tr>\n",
       "  </tbody>\n",
       "</table>\n",
       "</div>"
      ],
      "text/plain": [
       "   a1        a2       a4      a3    a5\n",
       "a1  -  2.561738  3.05505  8.3666  3.75\n",
       "a2  -         -      9.0     9.0   9.0\n",
       "a4  -         -        -     9.0   9.0\n",
       "a3  -         -        -       -   9.0\n",
       "a5  -         -        -       -     -"
      ]
     },
     "execution_count": 11,
     "metadata": {},
     "output_type": "execute_result"
    }
   ],
   "source": [
    "index_table"
   ]
  },
  {
   "cell_type": "markdown",
   "id": "95a7bcfd-2a97-40da-863a-f06e11dcce4e",
   "metadata": {},
   "source": [
    "# Висновки"
   ]
  },
  {
   "cell_type": "markdown",
   "id": "928920c5-11e3-4daa-8858-8f680f36bb56",
   "metadata": {},
   "source": [
    "В даній роботі було знайдено інтервали та індекси стійкості щодо збереження ранжування альтернатив, а саме для збереження незмінної найкращої альтернативи. Для запропонованої МПП було знайдені ваги за допомогою методу `RGMM` , а потім знайдені інтервали та індекси стійкості згідно з формул з теоретичної частини. Всі використані методи було запрограмовано, текст програми наведено в звіті. "
   ]
  },
  {
   "cell_type": "code",
   "execution_count": null,
   "id": "ed9d4d22-5b33-4bb8-ab55-49ccb7eebabe",
   "metadata": {},
   "outputs": [],
   "source": []
  }
 ],
 "metadata": {
  "kernelspec": {
   "display_name": "Python 3 (ipykernel)",
   "language": "python",
   "name": "python3"
  },
  "language_info": {
   "codemirror_mode": {
    "name": "ipython",
    "version": 3
   },
   "file_extension": ".py",
   "mimetype": "text/x-python",
   "name": "python",
   "nbconvert_exporter": "python",
   "pygments_lexer": "ipython3",
   "version": "3.10.12"
  }
 },
 "nbformat": 4,
 "nbformat_minor": 5
}
