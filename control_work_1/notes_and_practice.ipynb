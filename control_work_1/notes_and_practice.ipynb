{
 "cells": [
  {
   "cell_type": "code",
   "execution_count": 3,
   "id": "35ea51ca-73d2-4cbf-8b75-c82eddb113b5",
   "metadata": {},
   "outputs": [],
   "source": [
    "import numpy as np \n",
    "import pandas as pd"
   ]
  },
  {
   "cell_type": "markdown",
   "id": "a3407028-2ada-4a99-953f-87c86c1ef744",
   "metadata": {},
   "source": [
    "# Theory\n",
    "\n",
    "## Question 1\n",
    "\n",
    "- materials/lecture_notes.pdf pages: 13 - 15\n",
    "\n",
    "## Question 2\n",
    "\n",
    "- materials/Pankr_Nedashkov_posibnik.pdf pages: 16 - 18"
   ]
  },
  {
   "cell_type": "markdown",
   "id": "bd2c5a45-a802-40e1-ab66-c1aac85a59f3",
   "metadata": {},
   "source": [
    "# Practice"
   ]
  },
  {
   "cell_type": "code",
   "execution_count": 4,
   "id": "7e57abda-f7f8-400c-82cf-7b6bc91b74ca",
   "metadata": {},
   "outputs": [],
   "source": [
    "def is_transitive(matrix):\n",
    "    n = len(matrix)  # Assuming the matrix is square and non-empty\n",
    "    \n",
    "    # Check every combination of i, j, and k\n",
    "    not_trasitive_list = []\n",
    "    for i in range(n):\n",
    "        for j in range(n):\n",
    "            for k in range(n):\n",
    "                if matrix[i][k] * matrix[k][j] != matrix[i][j]:\n",
    "                    not_trasitive_list.append((i + 1,k + 1,j + 1))\n",
    "    if len(not_trasitive_list) == 0:\n",
    "        return True\n",
    "    else:\n",
    "        return not_trasitive_list"
   ]
  },
  {
   "cell_type": "markdown",
   "id": "c5718ec1-273e-417b-8b5f-a590fc351f1b",
   "metadata": {},
   "source": [
    "## Question 3"
   ]
  },
  {
   "cell_type": "code",
   "execution_count": 5,
   "id": "735c2590-1b29-4119-baed-1e8a3b62867d",
   "metadata": {},
   "outputs": [
    {
     "data": {
      "text/plain": [
       "array([[1.        , 3.        , 3.        ],\n",
       "       [0.33333333, 1.        , 3.        ],\n",
       "       [0.33333333, 0.33333333, 1.        ]])"
      ]
     },
     "execution_count": 5,
     "metadata": {},
     "output_type": "execute_result"
    }
   ],
   "source": [
    "d = np.array([\n",
    "    [1 ,3, 3],\n",
    "    [1/3, 1, 3],\n",
    "    [1/3, 1/3, 1]\n",
    "])\n",
    "n = len(d)\n",
    "d"
   ]
  },
  {
   "cell_type": "code",
   "execution_count": 6,
   "id": "19f1234d-ab32-47e7-a96b-1ee8e26bd2cf",
   "metadata": {},
   "outputs": [
    {
     "data": {
      "text/plain": [
       "[(1, 3, 2), (1, 2, 3), (2, 3, 1), (2, 1, 3), (3, 2, 1), (3, 1, 2)]"
      ]
     },
     "execution_count": 6,
     "metadata": {},
     "output_type": "execute_result"
    }
   ],
   "source": [
    "is_transitive(d)"
   ]
  },
  {
   "cell_type": "code",
   "execution_count": 8,
   "id": "277cf9a6-7761-46dc-99ff-aca6b7a60bf1",
   "metadata": {},
   "outputs": [
    {
     "data": {
      "text/plain": [
       "array([1.66666667, 4.33333333, 7.        ])"
      ]
     },
     "execution_count": 8,
     "metadata": {},
     "output_type": "execute_result"
    }
   ],
   "source": [
    "s = d.sum(axis=0)\n",
    "s"
   ]
  },
  {
   "cell_type": "code",
   "execution_count": 9,
   "id": "67148c8b-c883-4847-aa38-4143c21038c3",
   "metadata": {},
   "outputs": [
    {
     "data": {
      "text/plain": [
       "array([0.6       , 0.23076923, 0.14285714])"
      ]
     },
     "execution_count": 9,
     "metadata": {},
     "output_type": "execute_result"
    }
   ],
   "source": [
    "w = 1/s\n",
    "w"
   ]
  },
  {
   "cell_type": "code",
   "execution_count": 10,
   "id": "f2fece88-8214-4bea-b585-23de3efe1bfc",
   "metadata": {},
   "outputs": [
    {
     "data": {
      "text/plain": [
       "array([0.61625282, 0.23702032, 0.14672686])"
      ]
     },
     "execution_count": 10,
     "metadata": {},
     "output_type": "execute_result"
    }
   ],
   "source": [
    "w_normed = w / w.sum()\n",
    "w_normed"
   ]
  },
  {
   "cell_type": "code",
   "execution_count": 11,
   "id": "2d951990-b40a-4465-b242-e8f9e33e6373",
   "metadata": {},
   "outputs": [
    {
     "data": {
      "text/plain": [
       "0.9736263736263737"
      ]
     },
     "execution_count": 11,
     "metadata": {},
     "output_type": "execute_result"
    }
   ],
   "source": [
    "w.sum()"
   ]
  },
  {
   "cell_type": "code",
   "execution_count": 14,
   "id": "69c18bb3-0220-4eb6-b7f4-63140015aeb3",
   "metadata": {},
   "outputs": [
    {
     "data": {
      "text/plain": [
       "3.081264108352144"
      ]
     },
     "execution_count": 14,
     "metadata": {},
     "output_type": "execute_result"
    }
   ],
   "source": [
    "hm = n * (1 / w.sum())\n",
    "hm"
   ]
  },
  {
   "cell_type": "code",
   "execution_count": 15,
   "id": "0d6e078d-8190-4007-bd43-c8806748cb9a",
   "metadata": {},
   "outputs": [
    {
     "data": {
      "text/plain": [
       "0.21670428893905105"
      ]
     },
     "execution_count": 15,
     "metadata": {},
     "output_type": "execute_result"
    }
   ],
   "source": [
    "hci = ((hm - n) * (n + 1)) / n * (n - 1)\n",
    "hci"
   ]
  },
  {
   "cell_type": "code",
   "execution_count": 16,
   "id": "15df9ad8-5902-4ebf-a0ab-ee848b4633cf",
   "metadata": {},
   "outputs": [],
   "source": [
    "mrci_table = [0, 0, 0, 0.52, 0.89, 1.11, 1.25]"
   ]
  },
  {
   "cell_type": "code",
   "execution_count": 17,
   "id": "5a501e90-7614-4642-98a9-e4bc8f07ea74",
   "metadata": {},
   "outputs": [
    {
     "data": {
      "text/plain": [
       "0.4167390171904828"
      ]
     },
     "execution_count": 17,
     "metadata": {},
     "output_type": "execute_result"
    }
   ],
   "source": [
    "hci / mrci_table[n]"
   ]
  },
  {
   "cell_type": "markdown",
   "id": "d8e90631-d65b-43f3-913a-3052cda7a69e",
   "metadata": {},
   "source": [
    "## Question 4"
   ]
  },
  {
   "cell_type": "code",
   "execution_count": 18,
   "id": "5f30b415-6992-475d-a7ec-e3508439b560",
   "metadata": {},
   "outputs": [
    {
     "data": {
      "text/plain": [
       "array([[1.        , 0.33333333, 0.33333333],\n",
       "       [3.        , 1.        , 0.33333333],\n",
       "       [3.        , 3.        , 1.        ]])"
      ]
     },
     "execution_count": 18,
     "metadata": {},
     "output_type": "execute_result"
    }
   ],
   "source": [
    "d = np.array([\n",
    "    [1 ,1/3, 1/3],\n",
    "    [3, 1, 1/3],\n",
    "    [3, 3, 1]\n",
    "])\n",
    "n = len(d)\n",
    "d"
   ]
  },
  {
   "cell_type": "code",
   "execution_count": 19,
   "id": "3ecb61da-255b-4b36-831b-48a5a59fcd64",
   "metadata": {},
   "outputs": [
    {
     "data": {
      "text/plain": [
       "(1, 3, 2)"
      ]
     },
     "execution_count": 19,
     "metadata": {},
     "output_type": "execute_result"
    }
   ],
   "source": [
    "is_transitive(d)"
   ]
  },
  {
   "cell_type": "code",
   "execution_count": 20,
   "id": "fa68ed64-b2f9-449f-82e8-979e570d228c",
   "metadata": {},
   "outputs": [
    {
     "data": {
      "text/plain": [
       "array([0.48074986, 1.        , 2.08008382])"
      ]
     },
     "execution_count": 20,
     "metadata": {},
     "output_type": "execute_result"
    }
   ],
   "source": [
    "w = np.prod(d, axis=1) ** (1/n)\n",
    "w"
   ]
  },
  {
   "cell_type": "code",
   "execution_count": 21,
   "id": "8194279c-1a26-4ce6-808b-cbb6a6e2b64f",
   "metadata": {},
   "outputs": [
    {
     "data": {
      "text/plain": [
       "array([0.13501048, 0.28083311, 0.58415641])"
      ]
     },
     "execution_count": 21,
     "metadata": {},
     "output_type": "execute_result"
    }
   ],
   "source": [
    "w_normed = w / w.sum()\n",
    "w_normed"
   ]
  },
  {
   "cell_type": "code",
   "execution_count": 22,
   "id": "4cadc1ab-f59b-4edf-afb9-083f7b823676",
   "metadata": {},
   "outputs": [
    {
     "data": {
      "text/plain": [
       "0.40231632027086073"
      ]
     },
     "execution_count": 22,
     "metadata": {},
     "output_type": "execute_result"
    }
   ],
   "source": [
    "gci = 0\n",
    "\n",
    "# Sum only elements where i < j\n",
    "for i in range(n):\n",
    "    for j in range(i + 1, n):\n",
    "        gci += (np.log(d[i][j]) - np.log(w[i] / w[j])) ** 2\n",
    "        \n",
    "gci *= (2 / (n -1) * (n-2))\n",
    "\n",
    "gci"
   ]
  },
  {
   "cell_type": "code",
   "execution_count": 23,
   "id": "556d9549-e9c0-4e37-8e39-fdddb8986564",
   "metadata": {},
   "outputs": [
    {
     "data": {
      "text/plain": [
       "array([[3, 4, 1],\n",
       "       [1, 3, 2],\n",
       "       [2, 2, 4],\n",
       "       [4, 1, 3]])"
      ]
     },
     "execution_count": 23,
     "metadata": {},
     "output_type": "execute_result"
    }
   ],
   "source": [
    "R = np.array([\n",
    "    [3, 4, 1],\n",
    "    [1, 3, 2],\n",
    "    [2, 2, 4],\n",
    "    [4, 1, 3]\n",
    "])\n",
    "R"
   ]
  },
  {
   "cell_type": "code",
   "execution_count": 24,
   "id": "0f9295ac-d8ff-43cf-a9da-6873ab939d4c",
   "metadata": {},
   "outputs": [
    {
     "data": {
      "text/plain": [
       "array([[10, 10, 10]])"
      ]
     },
     "execution_count": 24,
     "metadata": {},
     "output_type": "execute_result"
    }
   ],
   "source": [
    "R.sum(axis=0, keepdims=True)"
   ]
  },
  {
   "cell_type": "code",
   "execution_count": 25,
   "id": "9101a915-c166-401a-b11e-7992c4974d13",
   "metadata": {},
   "outputs": [
    {
     "data": {
      "text/plain": [
       "array([[0.3, 0.4, 0.1],\n",
       "       [0.1, 0.3, 0.2],\n",
       "       [0.2, 0.2, 0.4],\n",
       "       [0.4, 0.1, 0.3]])"
      ]
     },
     "execution_count": 25,
     "metadata": {},
     "output_type": "execute_result"
    }
   ],
   "source": [
    "R_normed = R / R.sum(axis=0, keepdims=True)\n",
    "R_normed"
   ]
  },
  {
   "cell_type": "code",
   "execution_count": 26,
   "id": "47440554-38c5-43d2-9f86-70cc8d8ba060",
   "metadata": {},
   "outputs": [
    {
     "data": {
      "text/plain": [
       "array([0.21125203, 0.21458226, 0.31683128, 0.25733443])"
      ]
     },
     "execution_count": 26,
     "metadata": {},
     "output_type": "execute_result"
    }
   ],
   "source": [
    "w_glob = R_normed @ w_normed\n",
    "w_glob"
   ]
  },
  {
   "cell_type": "code",
   "execution_count": 27,
   "id": "20caefc3-8a41-44e0-a2ba-da1f8d43e74f",
   "metadata": {},
   "outputs": [
    {
     "data": {
      "text/plain": [
       "array([0.21125203, 0.21458226, 0.31683128, 0.25733443])"
      ]
     },
     "execution_count": 27,
     "metadata": {},
     "output_type": "execute_result"
    }
   ],
   "source": [
    "w_glob / w_glob.sum()"
   ]
  },
  {
   "cell_type": "code",
   "execution_count": null,
   "id": "28b54e69-a88b-4a5f-9385-f344ad8fb71b",
   "metadata": {},
   "outputs": [],
   "source": []
  }
 ],
 "metadata": {
  "kernelspec": {
   "display_name": "Python 3 (ipykernel)",
   "language": "python",
   "name": "python3"
  },
  "language_info": {
   "codemirror_mode": {
    "name": "ipython",
    "version": 3
   },
   "file_extension": ".py",
   "mimetype": "text/x-python",
   "name": "python",
   "nbconvert_exporter": "python",
   "pygments_lexer": "ipython3",
   "version": "3.10.12"
  }
 },
 "nbformat": 4,
 "nbformat_minor": 5
}
