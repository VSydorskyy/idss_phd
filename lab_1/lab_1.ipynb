{
 "cells": [
  {
   "cell_type": "markdown",
   "id": "0d44536b-7d85-4e6f-8173-18c8b7a6ec9b",
   "metadata": {},
   "source": [
    "# Комп'ютерний практикум №1\n",
    "## Сидорський Володимир Сергійович (КА-21ф)\n",
    "## Варіант 5"
   ]
  },
  {
   "cell_type": "markdown",
   "id": "ca8084bb-8479-477f-9a0b-d2a279d6d6b7",
   "metadata": {},
   "source": [
    "# Завдання"
   ]
  },
  {
   "cell_type": "markdown",
   "id": "2ab7d3aa-d833-4b69-b2cb-0f8e124297e8",
   "metadata": {},
   "source": [
    "![Task](images/task.png)"
   ]
  },
  {
   "cell_type": "markdown",
   "id": "e7e9ec63-8dc2-4ffb-9cfa-1b06d0342b05",
   "metadata": {},
   "source": [
    "# Програма"
   ]
  },
  {
   "cell_type": "code",
   "execution_count": 1,
   "id": "55883e44-8ae3-43d2-9477-dde2655a3223",
   "metadata": {},
   "outputs": [],
   "source": [
    "import numpy as np\n",
    "import networkx as nx\n",
    "\n",
    "from matplotlib import pyplot as plt"
   ]
  },
  {
   "cell_type": "code",
   "execution_count": 2,
   "id": "e0687ef2-322a-4b4c-8cee-7eb6c636be8c",
   "metadata": {},
   "outputs": [],
   "source": [
    "def is_transitive(matrix):\n",
    "    n = len(matrix)  # Assuming the matrix is square and non-empty\n",
    "    \n",
    "    # Check every combination of i, j, and k\n",
    "    not_trasitive_list = []\n",
    "    for i in range(n):\n",
    "        for j in range(n):\n",
    "            for k in range(n):\n",
    "                if matrix[i][k] * matrix[k][j] != matrix[i][j]:\n",
    "                    not_trasitive_list.append((i + 1,k + 1,j + 1))\n",
    "    return not_trasitive_list\n",
    "\n",
    "\n",
    "def plot_hierarchy(levels):\n",
    "    G = nx.Graph()\n",
    "    previous_level_nodes = []\n",
    "    current_level_nodes = []\n",
    "    position = {}\n",
    "    y = 0  # initial y-axis position\n",
    "\n",
    "    # Add the root node\n",
    "    G.add_node(0)\n",
    "    position[0] = (0, y)  # Center the root node at (0, y)\n",
    "    previous_level_nodes.append(0)\n",
    "    y -= 1\n",
    "\n",
    "    # Add nodes level by level\n",
    "    total_nodes = sum(levels) + 1  # Total number of nodes including the root\n",
    "    horizontal_spacing = max(levels)  # To ensure it is centered\n",
    "\n",
    "    for i, num_nodes in enumerate(levels, start=1):\n",
    "        current_level_nodes = []\n",
    "        offset = (horizontal_spacing - num_nodes) / 2  # Calculate offset to center nodes\n",
    "        for j in range(num_nodes):\n",
    "            node_id = sum(levels[:i-1]) + j + 1  # unique node id\n",
    "            G.add_node(node_id)\n",
    "            position[node_id] = (j + offset, y)\n",
    "            current_level_nodes.append(node_id)\n",
    "\n",
    "            # Connect each node to all nodes in the previous level\n",
    "            for prev_node in previous_level_nodes:\n",
    "                G.add_edge(node_id, prev_node)\n",
    "\n",
    "        previous_level_level_nodes = previous_level_nodes.copy()\n",
    "        previous_level_nodes = current_level_nodes\n",
    "        y -= 1\n",
    "\n",
    "    # Ensure the root node is centered above the first level\n",
    "    if levels:\n",
    "        first_level_width = max(levels)\n",
    "        position[0] = (first_level_width / 2 - 0.5, 0)  # Centering the root node\n",
    "\n",
    "    # Draw the graph\n",
    "    nx.draw(G, pos=position, with_labels=False, node_color='skyblue', node_size=500)\n",
    "    plt.show()\n",
    "\n",
    "def hierarchy_analyze(\n",
    "    mpps,\n",
    "    criteria_weights,\n",
    "    local_weight_func,\n",
    "    consistency_func,\n",
    "    global_weight_func,\n",
    "):\n",
    "    mpps = [np.array(el) for el in mpps]\n",
    "    criteria_weights = np.array(criteria_weights)\n",
    "    h_structure = [el.shape[1] for el in mpps] + [mpps[-1].shape[0]]\n",
    "    print(f\"m={h_structure}\")\n",
    "    plot_hierarchy(h_structure)\n",
    "    print(\"\\n\"*2)\n",
    "    cw = criteria_weights.copy()\n",
    "    for l in range(len(h_structure) - 1):\n",
    "        # Shape: N Criteria X N Alternatives\n",
    "        w_local = np.empty(mpps[l].shape[:-1])\n",
    "        for criteria_idx, mpp in enumerate(mpps[l]):\n",
    "            not_trasitive_list = is_transitive(mpp)\n",
    "            print(f\"Досліджуємо МПП рівня {l+2}, критерія {criteria_idx + 1}\")\n",
    "            print(mpp)\n",
    "            if len(not_trasitive_list) == 0:\n",
    "                print(\"Матриця узгоджена за означенням\")\n",
    "            else:\n",
    "                # nte stands for not_trasitive_element\n",
    "                nte = not_trasitive_list[0]\n",
    "                print(f\"Матриця не узгоджена, бо: d{nte[0]}{nte[1]}*d{nte[1]}{nte[2]} != d{nte[0]}{nte[2]}\")\n",
    "            w_local_mpp, add_outputs = local_weight_func(mpp)\n",
    "            print(f\"Локальні ваги: {w_local_mpp}\")\n",
    "            w_local[criteria_idx] = w_local_mpp\n",
    "            consistency_func(mpp, **add_outputs)\n",
    "            print(\"=\"*10)\n",
    "        w_global = global_weight_func(w_local, cw)\n",
    "        print(f\"Глобальні ваги для рівня {l+2}: {w_global}\")\n",
    "        cw = w_global.copy()\n",
    "        print(\"\\n\"*2)\n",
    "    print(\"Ранжування альтернатив (від кращого до гіршого): \", [\"a\"+str(idx) for idx in np.argsort(-w_global) + 1])"
   ]
  },
  {
   "cell_type": "code",
   "execution_count": 3,
   "id": "f4c80d97-75aa-45fe-a6b4-3752919b27ec",
   "metadata": {},
   "outputs": [],
   "source": [
    "def rgmm(D):\n",
    "    w = np.prod(D, axis=1) ** (1/D.shape[0])\n",
    "    return w / w.sum(), {\"or_w\": w}\n",
    "\n",
    "def compute_gci(D, or_w):\n",
    "    n = D.shape[0]\n",
    "    gci = 0\n",
    "    # Sum only elements where i < j\n",
    "    for i in range(n):\n",
    "        for j in range(i + 1, n):\n",
    "            gci += (np.log(D[i][j]) - np.log(or_w[i] / or_w[j])) ** 2\n",
    "            \n",
    "    gci *= (2 / (n -1) * (n-2))\n",
    "\n",
    "    # Matrix dims: 0, 1, 2, 3, 4, 5\n",
    "    THRESHS = [0, 0, 0, 0.1573, 0.3526, 0.370]\n",
    "    thresh = THRESHS[n]\n",
    "\n",
    "    if gci > thresh:\n",
    "        print(f\"GCI(={gci:.3f}) > {thresh} - МПП неузгоджена\")\n",
    "    elif gci > 0:\n",
    "        print(f\"GCI(={gci:.3f}) <= {thresh} - МПП допустимо узгоджена\")\n",
    "    else:\n",
    "        print(f\"GCI = 0.0 - МПП узгоджена\")\n",
    "    \n",
    "\n",
    "def distributive_method(w_local, cw):\n",
    "    w_local /= w_local.sum(0)\n",
    "    return w_local @ cw"
   ]
  },
  {
   "cell_type": "markdown",
   "id": "4701aa4c-9780-429d-b28d-b019e61695a3",
   "metadata": {},
   "source": [
    "# Виклик програми"
   ]
  },
  {
   "cell_type": "markdown",
   "id": "f7eb061a-dbaf-4300-88ae-ac9a61385eee",
   "metadata": {},
   "source": [
    "# Вхідні данні\n",
    "\n",
    "Вхідні данні у форматі `.json`. Необхідно задати:\n",
    "\n",
    "- МПП для кожного рівня\n",
    "- Ваги критеріїв "
   ]
  },
  {
   "cell_type": "code",
   "execution_count": 4,
   "id": "38e6803a-6dc0-4b29-993a-d6a077b7acb2",
   "metadata": {},
   "outputs": [],
   "source": [
    "INPUT = {\n",
    "    \"mpps\":[\n",
    "        [\n",
    "            [[1, 2],\n",
    "             [1/2, 1]],\n",
    "            [[1, 3],\n",
    "             [1/3, 1]],\n",
    "            [[1, 4],\n",
    "             [1/4, 1]],\n",
    "            [[1, 5],\n",
    "             [1/5, 1]]\n",
    "        ],\n",
    "        [\n",
    "            [[1, 3, 1/3, 2],\n",
    "             [1/3, 1, 1/4, 1/2],\n",
    "             [3, 4, 1, 6],\n",
    "             [1/2, 2, 1/6, 1]],\n",
    "            [[1, 1/5, 2.5, 4],\n",
    "             [5, 1, 3, 1/2],\n",
    "             [1/2.5, 1/3, 1, 1/4],\n",
    "             [1/4, 2, 4, 1]],\n",
    "            [[1, 2, 5, 1/2],\n",
    "             [1/2, 1, 3, 1/4],\n",
    "             [1/5, 1/3, 1, 1/5],\n",
    "             [2, 4, 5, 1]],\n",
    "            [[1, 1/2, 4, 3],\n",
    "             [2, 1, 2, 2.5],\n",
    "             [1/4, 1/2, 1, 1/3],\n",
    "             [1/3, 1/2.5, 3, 1]]\n",
    "        ]\n",
    "    ],\n",
    "    \"criteria_weights\": [0.3, 0.7]\n",
    "}"
   ]
  },
  {
   "cell_type": "markdown",
   "id": "72c16fb3-e9cb-49a6-8833-34c733944b86",
   "metadata": {},
   "source": [
    "## Виклик програми\n",
    "\n",
    "З заданими вхідними даними. Реалізована через необхідні алгоритми"
   ]
  },
  {
   "cell_type": "code",
   "execution_count": 5,
   "id": "b86819a5-fd05-478d-bedb-0da65e0f090c",
   "metadata": {},
   "outputs": [
    {
     "name": "stdout",
     "output_type": "stream",
     "text": [
      "m=[2, 4, 4]\n"
     ]
    },
    {
     "data": {
      "image/png": "[encoded data removed]",
      "text/plain": [
       "<Figure size 640x480 with 1 Axes>"
      ]
     },
     "metadata": {},
     "output_type": "display_data"
    },
    {
     "name": "stdout",
     "output_type": "stream",
     "text": [
      "\n",
      "\n",
      "\n",
      "Досліджуємо МПП рівня 2, критерія 1\n",
      "[[1.  2. ]\n",
      " [0.5 1. ]]\n",
      "Матриця узгоджена за означенням\n",
      "Локальні ваги: [0.66666667 0.33333333]\n",
      "GCI = 0.0 - МПП узгоджена\n",
      "==========\n",
      "Досліджуємо МПП рівня 2, критерія 2\n",
      "[[1.         3.        ]\n",
      " [0.33333333 1.        ]]\n",
      "Матриця узгоджена за означенням\n",
      "Локальні ваги: [0.75 0.25]\n",
      "GCI = 0.0 - МПП узгоджена\n",
      "==========\n",
      "Досліджуємо МПП рівня 2, критерія 3\n",
      "[[1.   4.  ]\n",
      " [0.25 1.  ]]\n",
      "Матриця узгоджена за означенням\n",
      "Локальні ваги: [0.8 0.2]\n",
      "GCI = 0.0 - МПП узгоджена\n",
      "==========\n",
      "Досліджуємо МПП рівня 2, критерія 4\n",
      "[[1.  5. ]\n",
      " [0.2 1. ]]\n",
      "Матриця узгоджена за означенням\n",
      "Локальні ваги: [0.83333333 0.16666667]\n",
      "GCI = 0.0 - МПП узгоджена\n",
      "==========\n",
      "Глобальні ваги для рівня 2: [0.31118781 0.25798102 0.22605695 0.20477423]\n",
      "\n",
      "\n",
      "\n",
      "Досліджуємо МПП рівня 3, критерія 1\n",
      "[[1.         3.         0.33333333 2.        ]\n",
      " [0.33333333 1.         0.25       0.5       ]\n",
      " [3.         4.         1.         6.        ]\n",
      " [0.5        2.         0.16666667 1.        ]]\n",
      "Матриця не узгоджена, бо: d13*d32 != d12\n",
      "Локальні ваги: [0.22900628 0.08700357 0.56094852 0.12304163]\n",
      "GCI(=0.649) > 0.3526 - МПП неузгоджена\n",
      "==========\n",
      "Досліджуємо МПП рівня 3, критерія 2\n",
      "[[1.         0.2        2.5        4.        ]\n",
      " [5.         1.         3.         0.5       ]\n",
      " [0.4        0.33333333 1.         0.25      ]\n",
      " [0.25       2.         4.         1.        ]]\n",
      "Матриця не узгоджена, бо: d13*d32 != d12\n",
      "Локальні ваги: [0.26660389 0.37100034 0.09579188 0.26660389]\n",
      "GCI(=6.418) > 0.3526 - МПП неузгоджена\n",
      "==========\n",
      "Досліджуємо МПП рівня 3, критерія 3\n",
      "[[1.         2.         5.         0.5       ]\n",
      " [0.5        1.         3.         0.25      ]\n",
      " [0.2        0.33333333 1.         0.2       ]\n",
      " [2.         4.         5.         1.        ]]\n",
      "Матриця не узгоджена, бо: d13*d32 != d12\n",
      "Локальні ваги: [0.29134522 0.15246607 0.06620642 0.4899823 ]\n",
      "GCI(=0.427) > 0.3526 - МПП неузгоджена\n",
      "==========\n",
      "Досліджуємо МПП рівня 3, критерія 4\n",
      "[[1.         0.5        4.         3.        ]\n",
      " [2.         1.         2.         2.5       ]\n",
      " [0.25       0.5        1.         0.33333333]\n",
      " [0.33333333 0.4        3.         1.        ]]\n",
      "Матриця не узгоджена, бо: d13*d32 != d12\n",
      "Локальні ваги: [0.34094467 0.38738793 0.09842225 0.17324515]\n",
      "GCI(=1.698) > 0.3526 - МПП неузгоджена\n",
      "==========\n",
      "Глобальні ваги для рівня 3: [0.26399088 0.24768841 0.2333184  0.25500231]\n",
      "\n",
      "\n",
      "\n",
      "Ранжування альтернатив (від кращого до гіршого):  ['a1', 'a4', 'a2', 'a3']\n"
     ]
    }
   ],
   "source": [
    "hierarchy_analyze(\n",
    "    **INPUT,\n",
    "    local_weight_func=rgmm,\n",
    "    consistency_func=compute_gci,\n",
    "    global_weight_func=distributive_method,\n",
    ")"
   ]
  },
  {
   "cell_type": "markdown",
   "id": "95a7bcfd-2a97-40da-863a-f06e11dcce4e",
   "metadata": {},
   "source": [
    "# Висновки\n",
    "\n",
    "В цій роботі було вивчено методи парних порівнянь розрахунку ваг альтернатив рішень відносно спільного критерію, вивчено етапи базового методу аналізу ієрархій розрахунку ваг альтернатив рішень за множиною незалежних критеріїв. Локальні ваги обчислені за допомогою Метода геометричної середньої (RGMM), узгодженість досліджена за допомогою Геометричного індекса узгодженості (GCI), а глобальні ваги альтернатив рішень для задачі ППР обчислено за допомогою дистрибутивного методу. Також побудований граф ієрархії. Зауважимо також, що основна ф-ція `hierarchy_analyze` реалізована з використанням парадигми функціонального програмування, що уможливлює зручну заміну методів для обчислення локальних ваг (`local_weight_func`), критерія узгодженості (`consistency_func`) і глобальних ваг (`global_weight_func`). Результати та текст програми наведено у звіті. "
   ]
  },
  {
   "cell_type": "code",
   "execution_count": null,
   "id": "5af44c73-d4d2-43d7-a88c-f7706f23777c",
   "metadata": {},
   "outputs": [],
   "source": []
  }
 ],
 "metadata": {
  "kernelspec": {
   "display_name": "Python 3 (ipykernel)",
   "language": "python",
   "name": "python3"
  },
  "language_info": {
   "codemirror_mode": {
    "name": "ipython",
    "version": 3
   },
   "file_extension": ".py",
   "mimetype": "text/x-python",
   "name": "python",
   "nbconvert_exporter": "python",
   "pygments_lexer": "ipython3",
   "version": "3.10.12"
  }
 },
 "nbformat": 4,
 "nbformat_minor": 5
}
